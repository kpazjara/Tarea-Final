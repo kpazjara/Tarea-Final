{
 "cells": [
  {
   "cell_type": "markdown",
   "id": "dfe232fd-aff5-4f06-9e00-ac406db24982",
   "metadata": {},
   "source": [
    "# Data Science Tools and Ecosystem"
   ]
  },
  {
   "cell_type": "markdown",
   "id": "71615ffb-eac9-430f-aee9-bd922fd350b7",
   "metadata": {},
   "source": [
    "In this notebook, Data Science Tools and Ecosystem are summarized."
   ]
  },
  {
   "cell_type": "markdown",
   "id": "0b59e5d4-d06c-4eb8-a337-d82cd99181a3",
   "metadata": {},
   "source": [
    "**Objectives:** \n",
    "\n",
    "- List popular languages for Data Science \n",
    "- List commonly used libraries used by Data Scientists \n",
    "- List Data Science Tools of open source \n",
    "- Examples of evaluating arithmetic expressions in Python"
   ]
  },
  {
   "cell_type": "markdown",
   "id": "e4ea7216-4573-47d9-8ee3-8c9d11890580",
   "metadata": {},
   "source": [
    "Some of the popular languages that Data Scientists use are: \n",
    "1. Python\n",
    "2. R\n",
    "3. SQL\n",
    "4. Julia"
   ]
  },
  {
   "cell_type": "markdown",
   "id": "c7880151-f788-4935-9a76-302fced63c4f",
   "metadata": {},
   "source": [
    "Some of the commonly used libraries used by Data Scientists include:\n",
    "1. Pandas\n",
    "2. NumPy\n",
    "3. Scikit-Learn\n",
    "4. Matplotlib"
   ]
  },
  {
   "cell_type": "markdown",
   "id": "f01e4b16-728d-4330-844e-30353754d06d",
   "metadata": {},
   "source": [
    "| Data Science Tools | \n",
    "| ------------------ |\n",
    "| Jupyter Notebook |\n",
    "| RStudio |\n",
    "| VS Code |"
   ]
  },
  {
   "cell_type": "markdown",
   "id": "7ff9887c-e6d8-4547-8697-4a147d9492de",
   "metadata": {},
   "source": [
    "### Below are a few examples of evaluating arithmetic expressions in Python \n",
    "\n",
    "suma = 6 + 3 \n",
    "\n",
    "resta = 6 - 3 \n",
    "\n",
    "multiplicacion = 6 * 3 \n",
    "\n",
    "division = 6 / 3 "
   ]
  },
  {
   "cell_type": "code",
   "execution_count": 4,
   "id": "ac28fe80-b7a3-441a-a0fb-8c15028bf20c",
   "metadata": {},
   "outputs": [
    {
     "name": "stdout",
     "output_type": "stream",
     "text": [
      "17\n"
     ]
    }
   ],
   "source": [
    "# This is a simple arithmetic expression for multiplying and then adding integers\n",
    "\n",
    "resultado = (3 * 4) + 5\n",
    "print(resultado)"
   ]
  },
  {
   "cell_type": "code",
   "execution_count": 5,
   "id": "181f610e-5bc3-4907-add5-f82930eb5a7c",
   "metadata": {},
   "outputs": [
    {
     "name": "stdout",
     "output_type": "stream",
     "text": [
      "3.3333333333333335\n"
     ]
    }
   ],
   "source": [
    "# This will convert 200 minutes to hours by diving by 60\n",
    "\n",
    "minutos = 200\n",
    "horas = minutos / 60\n",
    "print(horas)"
   ]
  },
  {
   "cell_type": "markdown",
   "id": "6ecadd11-aae9-46e3-b1f2-9491d8f2264d",
   "metadata": {},
   "source": [
    "## Author\n",
    "Katherinne Haydée Paz Jara"
   ]
  }
 ],
 "metadata": {
  "kernelspec": {
   "display_name": "Python 3 (ipykernel)",
   "language": "python",
   "name": "python3"
  },
  "language_info": {
   "codemirror_mode": {
    "name": "ipython",
    "version": 3
   },
   "file_extension": ".py",
   "mimetype": "text/x-python",
   "name": "python",
   "nbconvert_exporter": "python",
   "pygments_lexer": "ipython3",
   "version": "3.11.9"
  }
 },
 "nbformat": 4,
 "nbformat_minor": 5
}
